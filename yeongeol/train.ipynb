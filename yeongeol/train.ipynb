{
 "cells": [
  {
   "cell_type": "markdown",
   "source": [
    "# 환경설정"
   ],
   "metadata": {}
  },
  {
   "cell_type": "code",
   "execution_count": 1,
   "source": [
    "import os\n",
    "import gc\n",
    "import copy\n",
    "import numpy as np\n",
    "import pandas as pd\n",
    "\n",
    "import easydict\n",
    "from tqdm import notebook\n",
    "from tqdm import tqdm\n",
    "\n",
    "# 이미지\n",
    "from PIL import Image\n",
    "import cv2\n",
    "# 시각화\n",
    "import matplotlib.pyplot as plt\n",
    "import matplotlib as mpl\n",
    "\n",
    "# PyTorch\n",
    "import torch\n",
    "from torch.utils.data import Dataset\n",
    "from torch.utils.data import DataLoader\n",
    "import torch.optim as optim\n",
    "import torch.nn as nn\n",
    "import torch.nn.functional as F\n",
    "from torch.optim import Adam, AdamW\n",
    "\n",
    "from torch.optim.lr_scheduler import ReduceLROnPlateau\n",
    "\n",
    "from torchvision import transforms\n",
    "import timm"
   ],
   "outputs": [],
   "metadata": {}
  },
  {
   "cell_type": "markdown",
   "source": [
    "# 경로 설정 & 라벨링"
   ],
   "metadata": {}
  },
  {
   "cell_type": "code",
   "execution_count": 6,
   "source": [
    "train_dir = '/opt/ml/input/data/train/'\n",
    "train = pd.read_csv(os.path.join(train_dir, 'train.csv'))\n",
    "image_dir = os.path.join(train_dir, 'images/')\n",
    "\n",
    "# train_df 만들기 / 라벨링\n",
    "\n",
    "labels = []\n",
    "\n",
    "for i in train.index:\n",
    "    gender = 0\n",
    "    # 성별에 따른 분류\n",
    "    if train.loc[i]['gender'] == 'female':\n",
    "        gender = 3\n",
    "\n",
    "    # 나이에 따른 분류\n",
    "    age = 0\n",
    "    if 30 <= train.loc[i]['age'] < 60:\n",
    "        age += 1\n",
    "    elif 60 <= train.loc[i]['age']:\n",
    "        age += 2\n",
    "\n",
    "\n",
    "    # 마스크 착용에 따른 분류\n",
    "    for dirpath, dirnames, filenames in os.walk(image_dir+train.loc[i]['path']):\n",
    "        for filename in filenames:\n",
    "            # 마스크 제대로 쓴 경우 (5장)\n",
    "            if filename[0] == 'm':\n",
    "                label = {\"img_path\": dirpath+\"/\"+filename,\n",
    "                        \"label\": gender+age}\n",
    "                labels.append(label)\n",
    "\n",
    "            # 마스크 이상하게 착용(코, 턱스크) (1장)\n",
    "            elif filename[0] == 'i':\n",
    "                label = {\"img_path\": dirpath+\"/\"+filename,\n",
    "                        \"label\": 6+gender+age}\n",
    "                labels.append(label)\n",
    "            # 미착용 (1장)\n",
    "            elif filename[0] == 'n':\n",
    "                label = {\"img_path\": dirpath+\"/\"+filename,\n",
    "                        \"label\": 12+gender+age}\n",
    "                labels.append(label)\n",
    "            \n",
    "train_df = pd.DataFrame(labels)\n",
    "train_df = train_df.sort_values(['label', 'img_path'])\n",
    "train_df = train_df.reset_index(drop=True)\n",
    "train_df.head()"
   ],
   "outputs": [
    {
     "output_type": "execute_result",
     "data": {
      "text/plain": [
       "                                            img_path  label\n",
       "0  /opt/ml/input/data/train/images/000309_male_As...      0\n",
       "1  /opt/ml/input/data/train/images/000309_male_As...      0\n",
       "2  /opt/ml/input/data/train/images/000309_male_As...      0\n",
       "3  /opt/ml/input/data/train/images/000309_male_As...      0\n",
       "4  /opt/ml/input/data/train/images/000309_male_As...      0"
      ],
      "text/html": [
       "<div>\n",
       "<style scoped>\n",
       "    .dataframe tbody tr th:only-of-type {\n",
       "        vertical-align: middle;\n",
       "    }\n",
       "\n",
       "    .dataframe tbody tr th {\n",
       "        vertical-align: top;\n",
       "    }\n",
       "\n",
       "    .dataframe thead th {\n",
       "        text-align: right;\n",
       "    }\n",
       "</style>\n",
       "<table border=\"1\" class=\"dataframe\">\n",
       "  <thead>\n",
       "    <tr style=\"text-align: right;\">\n",
       "      <th></th>\n",
       "      <th>img_path</th>\n",
       "      <th>label</th>\n",
       "    </tr>\n",
       "  </thead>\n",
       "  <tbody>\n",
       "    <tr>\n",
       "      <th>0</th>\n",
       "      <td>/opt/ml/input/data/train/images/000309_male_As...</td>\n",
       "      <td>0</td>\n",
       "    </tr>\n",
       "    <tr>\n",
       "      <th>1</th>\n",
       "      <td>/opt/ml/input/data/train/images/000309_male_As...</td>\n",
       "      <td>0</td>\n",
       "    </tr>\n",
       "    <tr>\n",
       "      <th>2</th>\n",
       "      <td>/opt/ml/input/data/train/images/000309_male_As...</td>\n",
       "      <td>0</td>\n",
       "    </tr>\n",
       "    <tr>\n",
       "      <th>3</th>\n",
       "      <td>/opt/ml/input/data/train/images/000309_male_As...</td>\n",
       "      <td>0</td>\n",
       "    </tr>\n",
       "    <tr>\n",
       "      <th>4</th>\n",
       "      <td>/opt/ml/input/data/train/images/000309_male_As...</td>\n",
       "      <td>0</td>\n",
       "    </tr>\n",
       "  </tbody>\n",
       "</table>\n",
       "</div>"
      ]
     },
     "metadata": {},
     "execution_count": 6
    }
   ],
   "metadata": {}
  },
  {
   "cell_type": "code",
   "execution_count": 8,
   "source": [
    "len(train_df)"
   ],
   "outputs": [
    {
     "output_type": "execute_result",
     "data": {
      "text/plain": [
       "18900"
      ]
     },
     "metadata": {},
     "execution_count": 8
    }
   ],
   "metadata": {}
  },
  {
   "cell_type": "code",
   "execution_count": 9,
   "source": [
    "train_df.groupby('label').count()"
   ],
   "outputs": [
    {
     "output_type": "execute_result",
     "data": {
      "text/plain": [
       "       img_path\n",
       "label          \n",
       "0          2745\n",
       "1          2050\n",
       "2           415\n",
       "3          3660\n",
       "4          4085\n",
       "5           545\n",
       "6           549\n",
       "7           410\n",
       "8            83\n",
       "9           732\n",
       "10          817\n",
       "11          109\n",
       "12          549\n",
       "13          410\n",
       "14           83\n",
       "15          732\n",
       "16          817\n",
       "17          109"
      ],
      "text/html": [
       "<div>\n",
       "<style scoped>\n",
       "    .dataframe tbody tr th:only-of-type {\n",
       "        vertical-align: middle;\n",
       "    }\n",
       "\n",
       "    .dataframe tbody tr th {\n",
       "        vertical-align: top;\n",
       "    }\n",
       "\n",
       "    .dataframe thead th {\n",
       "        text-align: right;\n",
       "    }\n",
       "</style>\n",
       "<table border=\"1\" class=\"dataframe\">\n",
       "  <thead>\n",
       "    <tr style=\"text-align: right;\">\n",
       "      <th></th>\n",
       "      <th>img_path</th>\n",
       "    </tr>\n",
       "    <tr>\n",
       "      <th>label</th>\n",
       "      <th></th>\n",
       "    </tr>\n",
       "  </thead>\n",
       "  <tbody>\n",
       "    <tr>\n",
       "      <th>0</th>\n",
       "      <td>2745</td>\n",
       "    </tr>\n",
       "    <tr>\n",
       "      <th>1</th>\n",
       "      <td>2050</td>\n",
       "    </tr>\n",
       "    <tr>\n",
       "      <th>2</th>\n",
       "      <td>415</td>\n",
       "    </tr>\n",
       "    <tr>\n",
       "      <th>3</th>\n",
       "      <td>3660</td>\n",
       "    </tr>\n",
       "    <tr>\n",
       "      <th>4</th>\n",
       "      <td>4085</td>\n",
       "    </tr>\n",
       "    <tr>\n",
       "      <th>5</th>\n",
       "      <td>545</td>\n",
       "    </tr>\n",
       "    <tr>\n",
       "      <th>6</th>\n",
       "      <td>549</td>\n",
       "    </tr>\n",
       "    <tr>\n",
       "      <th>7</th>\n",
       "      <td>410</td>\n",
       "    </tr>\n",
       "    <tr>\n",
       "      <th>8</th>\n",
       "      <td>83</td>\n",
       "    </tr>\n",
       "    <tr>\n",
       "      <th>9</th>\n",
       "      <td>732</td>\n",
       "    </tr>\n",
       "    <tr>\n",
       "      <th>10</th>\n",
       "      <td>817</td>\n",
       "    </tr>\n",
       "    <tr>\n",
       "      <th>11</th>\n",
       "      <td>109</td>\n",
       "    </tr>\n",
       "    <tr>\n",
       "      <th>12</th>\n",
       "      <td>549</td>\n",
       "    </tr>\n",
       "    <tr>\n",
       "      <th>13</th>\n",
       "      <td>410</td>\n",
       "    </tr>\n",
       "    <tr>\n",
       "      <th>14</th>\n",
       "      <td>83</td>\n",
       "    </tr>\n",
       "    <tr>\n",
       "      <th>15</th>\n",
       "      <td>732</td>\n",
       "    </tr>\n",
       "    <tr>\n",
       "      <th>16</th>\n",
       "      <td>817</td>\n",
       "    </tr>\n",
       "    <tr>\n",
       "      <th>17</th>\n",
       "      <td>109</td>\n",
       "    </tr>\n",
       "  </tbody>\n",
       "</table>\n",
       "</div>"
      ]
     },
     "metadata": {},
     "execution_count": 9
    }
   ],
   "metadata": {}
  },
  {
   "cell_type": "markdown",
   "source": [
    "# Dataset & DataLoader"
   ],
   "metadata": {}
  },
  {
   "cell_type": "code",
   "execution_count": 10,
   "source": [
    "class TrainDataset(Dataset):\n",
    "    def __init__(self, img_paths, transform):\n",
    "        self.img_paths = img_paths\n",
    "        self.transform = transform\n",
    "\n",
    "    def __getitem__(self, index):\n",
    "        data = self.img_paths.iloc[index]\n",
    "\n",
    "        img_path = data['img_path']\n",
    "        image = Image.open(img_path)\n",
    "\n",
    "        if self.transform:\n",
    "            image = self.transform(image)\n",
    "\n",
    "        label = data['label']\n",
    "        return image, label\n",
    "\n",
    "    def __len__(self):\n",
    "        return len(self.img_paths)"
   ],
   "outputs": [],
   "metadata": {}
  },
  {
   "cell_type": "code",
   "execution_count": 23,
   "source": [
    "transform = transforms.Compose([transforms.CenterCrop(224),\n",
    "                                transforms.ToTensor(),\n",
    "                                transforms.Normalize([0.485, 0.456, 0.406],\n",
    "                                                     [0.229, 0.224, 0.225])])\n",
    "                                                \n",
    "dataset = TrainDataset(train_df, transform)"
   ],
   "outputs": [],
   "metadata": {}
  },
  {
   "cell_type": "markdown",
   "source": [
    "# Hyper Parameter"
   ],
   "metadata": {}
  },
  {
   "cell_type": "code",
   "execution_count": 24,
   "source": [
    "import random\n",
    "batch_size = 32\n",
    "lr = 1e-4\n",
    "random_seed = 2021\n",
    "random.seed(random_seed)\n",
    "torch.manual_seed(random_seed)"
   ],
   "outputs": [
    {
     "output_type": "execute_result",
     "data": {
      "text/plain": [
       "<torch._C.Generator at 0x7f360cc0f5d0>"
      ]
     },
     "metadata": {},
     "execution_count": 24
    }
   ],
   "metadata": {}
  },
  {
   "cell_type": "markdown",
   "source": [
    "# train / valid 나누기"
   ],
   "metadata": {}
  },
  {
   "cell_type": "code",
   "execution_count": 25,
   "source": [
    "## data split\n",
    "from sklearn.model_selection import train_test_split\n",
    "from torch.utils.data import Subset\n",
    "\n",
    "train_idx, val_idx = train_test_split(list(range(len(dataset))), test_size=0.2, random_state=random_seed)\n",
    "datasets = {}\n",
    "datasets['train'] = Subset(dataset, train_idx)\n",
    "datasets['valid'] = Subset(dataset, val_idx)\n",
    "\n",
    "## data loader 선언\n",
    "dataloaders, batch_num = {}, {}\n",
    "dataloaders['train'] = torch.utils.data.DataLoader(datasets['train'],\n",
    "                                              batch_size=batch_size, shuffle=True,\n",
    "                                              num_workers=4)\n",
    "dataloaders['valid'] = torch.utils.data.DataLoader(datasets['valid'],\n",
    "                                              batch_size=batch_size, shuffle=False,\n",
    "                                              num_workers=4)\n",
    "\n",
    "batch_num['train'], batch_num['valid'] = len(dataloaders['train']), len(dataloaders['valid'])\n",
    "print('batch_size : %d,  tvt : %d / %d' % (batch_size, batch_num['train'], batch_num['valid']))"
   ],
   "outputs": [
    {
     "output_type": "stream",
     "name": "stdout",
     "text": [
      "batch_size : 32,  tvt : 574 / 144\n"
     ]
    }
   ],
   "metadata": {}
  },
  {
   "cell_type": "markdown",
   "source": [
    "# 모델링"
   ],
   "metadata": {}
  },
  {
   "cell_type": "code",
   "execution_count": 30,
   "source": [
    "model_name = \"swin_large_patch4_window7_224\"\n",
    "model = timm.create_model(\"swin_large_patch4_window7_224\", pretrained=True, num_classes=18)"
   ],
   "outputs": [],
   "metadata": {}
  },
  {
   "cell_type": "markdown",
   "source": [
    "# 훈련"
   ],
   "metadata": {}
  },
  {
   "cell_type": "code",
   "execution_count": 31,
   "source": [
    "import time\n",
    "from sklearn.metrics import f1_score\n",
    "fold = 1\n",
    "def train_model(model, dataloaders, criterion, optimizer, scheduler, num_epochs=25):\n",
    "    global version\n",
    "    global fold\n",
    "    since = time.time()\n",
    "\n",
    "    best_model_wts = copy.deepcopy(model.state_dict())\n",
    "    best_acc = 0.0\n",
    "    best_f1 = 0.0\n",
    "    train_loss, train_acc, valid_loss, valid_acc = [], [], [], []\n",
    "    \n",
    "    for epoch in tqdm(range(num_epochs)):\n",
    "        print('Epoch {}/{}'.format(epoch, num_epochs - 1))\n",
    "        print('-' * 10)\n",
    "\n",
    "\n",
    "        # Each epoch has a training and validation phase\n",
    "        for phase in ['train', 'valid']:\n",
    "            if phase == 'train':\n",
    "                model.train()  # Set model to training mode\n",
    "            else:\n",
    "                model.eval()   # Set model to evaluate mode\n",
    "\n",
    "            running_loss, running_corrects, num_cnt = 0.0, 0, 0\n",
    "            epoch_f1 = 0.0\n",
    "            n_iter = 0.0          \n",
    "            # Iterate over data.\n",
    "            for inputs, labels in dataloaders[phase]:\n",
    "                inputs = inputs.to(device)\n",
    "                labels = labels.to(device)\n",
    "\n",
    "                # zero the parameter gradients\n",
    "                optimizer.zero_grad()\n",
    "\n",
    "                # forward\n",
    "                # track history if only in train\n",
    "                with torch.set_grad_enabled(phase == 'train'):\n",
    "                    outputs = model(inputs)\n",
    "                    _, preds = torch.max(outputs, 1)\n",
    "                    loss = criterion(outputs, labels)\n",
    "\n",
    "                    # backward + optimize only if in training phase\n",
    "                    if phase == 'train':\n",
    "                        loss.backward()\n",
    "                        optimizer.step()\n",
    "\n",
    "                # statistics\n",
    "                running_loss += loss.item() * inputs.size(0)\n",
    "                running_corrects += torch.sum(preds == labels.data)\n",
    "                epoch_f1 += f1_score(labels.cpu().numpy(), preds.cpu().numpy(), average='macro')\n",
    "                n_iter += 1\n",
    "                num_cnt += len(labels)\n",
    "            if phase == 'train':\n",
    "                scheduler.step()\n",
    "            \n",
    "            epoch_fl = epoch_f1 / n_iter\n",
    "            epoch_loss = float(running_loss / num_cnt)\n",
    "            epoch_acc  = float((running_corrects.double() / num_cnt).cpu()*100)\n",
    "            \n",
    "            if phase == 'train':\n",
    "                train_loss.append(epoch_loss)\n",
    "                train_acc.append(epoch_acc)\n",
    "            else:\n",
    "                valid_loss.append(epoch_loss)\n",
    "                valid_acc.append(epoch_acc)\n",
    "            print('{} Loss: {:.2f} Acc: {:.1f} F1: {:.4f}'.format(phase, epoch_loss, epoch_acc, epoch_fl))\n",
    "           \n",
    "            # deep copy the model\n",
    "            if phase == 'valid' and epoch_acc > best_acc:\n",
    "                best_idx = epoch\n",
    "                best_acc = epoch_acc\n",
    "                best_f1 = epoch_f1\n",
    "\n",
    "                best_model_wts = copy.deepcopy(model.state_dict())\n",
    "#                 best_model_wts = copy.deepcopy(model.module.state_dict())\n",
    "                print('==> best model saved - %d / %.1f / %.4f'%(best_idx, best_acc, best_f1))\n",
    "            \n",
    "\n",
    "    time_elapsed = time.time() - since\n",
    "    print('Training complete in {:.0f}m {:.0f}s'.format(time_elapsed // 60, time_elapsed % 60))\n",
    "    print('Best valid Acc: %d - %.1f' %(best_idx, best_acc))\n",
    "    print('Best valid f1: %d - %.1f' %(best_idx, best_f1))\n",
    "    # load best model weights\n",
    "    model.load_state_dict(best_model_wts)\n",
    "    save_name =  f\"0831Fold_{fold}_{model_name}_batch{batch_size}_lr{lr}_{round(best_acc,2)}.pt\"\n",
    "    fold += 1\n",
    "    torch.save(model, save_name)\n",
    "\n",
    "    print('model saved')\n",
    "    return model, best_idx, best_acc, train_loss, train_acc, valid_loss, valid_acc"
   ],
   "outputs": [],
   "metadata": {}
  },
  {
   "cell_type": "code",
   "execution_count": 32,
   "source": [
    "from sklearn.utils import class_weight\n",
    "device = torch.device(\"cuda:0\" if torch.cuda.is_available() else \"cpu\")  # set gpu\n",
    "\n",
    "model = model.to(device)\n",
    "\n",
    "weights = class_weight.compute_class_weight('balanced',\n",
    "                                            np.unique(train_df['label']),\n",
    "                                            train_df['label'])\n",
    "weights = torch.FloatTensor(weights).to(device)\n",
    "\n",
    "#criterion = nn.CrossEntropyLoss(weight=weights)\n",
    "\n",
    "criterion = nn.CrossEntropyLoss()\n",
    "\n",
    "optimizer_ft = optim.AdamW(model.parameters(), lr=lr)\n",
    "\n",
    "exp_lr_scheduler = optim.lr_scheduler.CosineAnnealingLR(optimizer_ft,\n",
    "                                          T_max=10,\n",
    "                                          eta_min=0)"
   ],
   "outputs": [
    {
     "output_type": "stream",
     "name": "stderr",
     "text": [
      "/opt/conda/lib/python3.8/site-packages/sklearn/utils/validation.py:70: FutureWarning: Pass classes=[ 0  1  2  3  4  5  6  7  8  9 10 11 12 13 14 15 16 17], y=0         0\n",
      "1         0\n",
      "2         0\n",
      "3         0\n",
      "4         0\n",
      "         ..\n",
      "22927    17\n",
      "22928    17\n",
      "22929    17\n",
      "22930    17\n",
      "22931    17\n",
      "Name: label, Length: 22932, dtype: int64 as keyword args. From version 1.0 (renaming of 0.25) passing these as positional arguments will result in an error\n",
      "  warnings.warn(f\"Pass {args_msg} as keyword args. From version \"\n"
     ]
    }
   ],
   "metadata": {}
  },
  {
   "cell_type": "code",
   "execution_count": null,
   "source": [
    "model, best_idx, best_acc, train_loss, train_acc, valid_loss, valid_acc = train_model(model, dataloaders, criterion, optimizer_ft, exp_lr_scheduler, num_epochs=15)"
   ],
   "outputs": [],
   "metadata": {}
  },
  {
   "cell_type": "code",
   "execution_count": 33,
   "source": [
    "start_model_wts = copy.deepcopy(model.state_dict())"
   ],
   "outputs": [],
   "metadata": {}
  },
  {
   "cell_type": "code",
   "execution_count": 34,
   "source": [
    "from sklearn.model_selection import StratifiedKFold\n",
    "kfold = StratifiedKFold(n_splits=5)\n",
    "k = 1\n",
    "train_label = train_df['label'].values\n",
    "for train_idx, val_idx in kfold.split(train_df, train_label):\n",
    "    model.load_state_dict(start_model_wts)\n",
    "\n",
    "    print('\\n')\n",
    "    print('='* 15 +f'{k}-Fold Cross Validation'+'=' * 15)\n",
    "    datasets = {}\n",
    "    datasets['train'] = Subset(dataset, train_idx)\n",
    "    datasets['valid'] = Subset(dataset, val_idx)\n",
    "    dataloaders= {}\n",
    "    dataloaders['train'] = torch.utils.data.DataLoader(datasets['train'],\n",
    "                                              batch_size=batch_size, shuffle=True,\n",
    "                                              num_workers=4)\n",
    "    dataloaders['valid'] = torch.utils.data.DataLoader(datasets['valid'],\n",
    "                                              batch_size=batch_size, shuffle=False,\n",
    "                                              num_workers=4)\n",
    "    model, best_idx, best_acc, train_loss, train_acc, valid_loss, valid_acc = train_model(model, dataloaders, criterion, optimizer_ft, exp_lr_scheduler, num_epochs=20)"
   ],
   "outputs": [
    {
     "output_type": "stream",
     "name": "stderr",
     "text": [
      "  0%|          | 0/20 [00:00<?, ?it/s]"
     ]
    },
    {
     "output_type": "stream",
     "name": "stdout",
     "text": [
      "\n",
      "\n",
      "===============1-Fold Cross Validation===============\n",
      "Epoch 0/19\n",
      "----------\n",
      "train Loss: 0.34 Acc: 88.6 F1: 0.8241\n"
     ]
    },
    {
     "output_type": "stream",
     "name": "stderr",
     "text": [
      "  5%|▌         | 1/20 [08:02<2:32:48, 482.55s/it]"
     ]
    },
    {
     "output_type": "stream",
     "name": "stdout",
     "text": [
      "valid Loss: 0.47 Acc: 85.1 F1: 0.5538\n",
      "==> best model saved - 0 / 85.1 / 79.7405\n",
      "Epoch 1/19\n",
      "----------\n",
      "train Loss: 0.08 Acc: 97.4 F1: 0.9554\n"
     ]
    },
    {
     "output_type": "stream",
     "name": "stderr",
     "text": [
      " 10%|█         | 2/20 [16:05<2:24:48, 482.68s/it]"
     ]
    },
    {
     "output_type": "stream",
     "name": "stdout",
     "text": [
      "valid Loss: 0.58 Acc: 84.3 F1: 0.5043\n",
      "Epoch 2/19\n",
      "----------\n",
      "train Loss: 0.05 Acc: 98.4 F1: 0.9729\n"
     ]
    },
    {
     "output_type": "stream",
     "name": "stderr",
     "text": [
      " 15%|█▌        | 3/20 [24:09<2:16:49, 482.92s/it]"
     ]
    },
    {
     "output_type": "stream",
     "name": "stdout",
     "text": [
      "valid Loss: 0.75 Acc: 80.4 F1: 0.4966\n",
      "Epoch 3/19\n",
      "----------\n",
      "train Loss: 0.02 Acc: 99.3 F1: 0.9863\n"
     ]
    },
    {
     "output_type": "stream",
     "name": "stderr",
     "text": [
      " 20%|██        | 4/20 [32:12<2:08:50, 483.14s/it]"
     ]
    },
    {
     "output_type": "stream",
     "name": "stdout",
     "text": [
      "valid Loss: 0.67 Acc: 85.5 F1: 0.5493\n",
      "==> best model saved - 3 / 85.5 / 79.0953\n",
      "Epoch 4/19\n",
      "----------\n",
      "train Loss: 0.00 Acc: 99.9 F1: 0.9982\n"
     ]
    },
    {
     "output_type": "stream",
     "name": "stderr",
     "text": [
      " 25%|██▌       | 5/20 [40:16<2:00:49, 483.30s/it]"
     ]
    },
    {
     "output_type": "stream",
     "name": "stdout",
     "text": [
      "valid Loss: 0.66 Acc: 86.6 F1: 0.5708\n",
      "==> best model saved - 4 / 86.6 / 82.1934\n",
      "Epoch 5/19\n",
      "----------\n",
      "train Loss: 0.00 Acc: 100.0 F1: 0.9996\n"
     ]
    },
    {
     "output_type": "stream",
     "name": "stderr",
     "text": [
      " 30%|███       | 6/20 [48:21<1:52:53, 483.81s/it]"
     ]
    },
    {
     "output_type": "stream",
     "name": "stdout",
     "text": [
      "valid Loss: 0.62 Acc: 88.1 F1: 0.5773\n",
      "==> best model saved - 5 / 88.1 / 83.1381\n",
      "Epoch 6/19\n",
      "----------\n",
      "train Loss: 0.00 Acc: 100.0 F1: 0.9998\n"
     ]
    },
    {
     "output_type": "stream",
     "name": "stderr",
     "text": [
      " 35%|███▌      | 7/20 [56:27<1:44:57, 484.40s/it]"
     ]
    },
    {
     "output_type": "stream",
     "name": "stdout",
     "text": [
      "valid Loss: 0.66 Acc: 87.8 F1: 0.5732\n",
      "Epoch 7/19\n",
      "----------\n",
      "train Loss: 0.00 Acc: 100.0 F1: 0.9997\n"
     ]
    },
    {
     "output_type": "stream",
     "name": "stderr",
     "text": [
      " 40%|████      | 8/20 [1:04:32<1:36:56, 484.68s/it]"
     ]
    },
    {
     "output_type": "stream",
     "name": "stdout",
     "text": [
      "valid Loss: 0.68 Acc: 87.7 F1: 0.5769\n",
      "Epoch 8/19\n",
      "----------\n",
      "train Loss: 0.00 Acc: 100.0 F1: 1.0000\n"
     ]
    },
    {
     "output_type": "stream",
     "name": "stderr",
     "text": [
      " 45%|████▌     | 9/20 [1:12:38<1:28:54, 484.97s/it]"
     ]
    },
    {
     "output_type": "stream",
     "name": "stdout",
     "text": [
      "valid Loss: 0.59 Acc: 88.8 F1: 0.6008\n",
      "==> best model saved - 8 / 88.8 / 86.5145\n",
      "Epoch 9/19\n",
      "----------\n",
      "train Loss: 0.00 Acc: 100.0 F1: 1.0000\n"
     ]
    },
    {
     "output_type": "stream",
     "name": "stderr",
     "text": [
      " 50%|█████     | 10/20 [1:20:43<1:20:52, 485.25s/it]"
     ]
    },
    {
     "output_type": "stream",
     "name": "stdout",
     "text": [
      "valid Loss: 0.63 Acc: 88.4 F1: 0.5926\n",
      "Epoch 10/19\n",
      "----------\n",
      "train Loss: 0.00 Acc: 100.0 F1: 1.0000\n"
     ]
    },
    {
     "output_type": "stream",
     "name": "stderr",
     "text": [
      " 55%|█████▌    | 11/20 [1:28:48<1:12:45, 485.06s/it]"
     ]
    },
    {
     "output_type": "stream",
     "name": "stdout",
     "text": [
      "valid Loss: 0.63 Acc: 88.4 F1: 0.5926\n",
      "Epoch 11/19\n",
      "----------\n",
      "train Loss: 0.00 Acc: 100.0 F1: 1.0000\n"
     ]
    },
    {
     "output_type": "stream",
     "name": "stderr",
     "text": [
      " 60%|██████    | 12/20 [1:36:53<1:04:40, 485.06s/it]"
     ]
    },
    {
     "output_type": "stream",
     "name": "stdout",
     "text": [
      "valid Loss: 0.69 Acc: 87.6 F1: 0.5777\n",
      "Epoch 12/19\n",
      "----------\n",
      "train Loss: 0.00 Acc: 100.0 F1: 1.0000\n"
     ]
    },
    {
     "output_type": "stream",
     "name": "stderr",
     "text": [
      " 65%|██████▌   | 13/20 [1:45:00<56:38, 485.57s/it]  "
     ]
    },
    {
     "output_type": "stream",
     "name": "stdout",
     "text": [
      "valid Loss: 0.69 Acc: 87.7 F1: 0.5763\n",
      "Epoch 13/19\n",
      "----------\n",
      "train Loss: 0.01 Acc: 99.8 F1: 0.9955\n"
     ]
    },
    {
     "output_type": "stream",
     "name": "stderr",
     "text": [
      " 70%|███████   | 14/20 [1:53:06<48:35, 485.84s/it]"
     ]
    },
    {
     "output_type": "stream",
     "name": "stdout",
     "text": [
      "valid Loss: 0.72 Acc: 85.4 F1: 0.5640\n",
      "Epoch 14/19\n",
      "----------\n",
      "train Loss: 0.02 Acc: 99.4 F1: 0.9915\n"
     ]
    },
    {
     "output_type": "stream",
     "name": "stderr",
     "text": [
      " 75%|███████▌  | 15/20 [2:01:13<40:30, 486.13s/it]"
     ]
    },
    {
     "output_type": "stream",
     "name": "stdout",
     "text": [
      "valid Loss: 0.68 Acc: 86.6 F1: 0.5804\n",
      "Epoch 15/19\n",
      "----------\n",
      "train Loss: 0.02 Acc: 99.5 F1: 0.9922\n"
     ]
    },
    {
     "output_type": "stream",
     "name": "stderr",
     "text": [
      " 80%|████████  | 16/20 [2:09:19<32:23, 485.89s/it]"
     ]
    },
    {
     "output_type": "stream",
     "name": "stdout",
     "text": [
      "valid Loss: 0.59 Acc: 87.5 F1: 0.5494\n",
      "Epoch 16/19\n",
      "----------\n",
      "train Loss: 0.02 Acc: 99.4 F1: 0.9892\n"
     ]
    },
    {
     "output_type": "stream",
     "name": "stderr",
     "text": [
      " 85%|████████▌ | 17/20 [2:17:23<24:16, 485.53s/it]"
     ]
    },
    {
     "output_type": "stream",
     "name": "stdout",
     "text": [
      "valid Loss: 0.40 Acc: 89.7 F1: 0.5634\n",
      "==> best model saved - 16 / 89.7 / 81.1347\n",
      "Epoch 17/19\n",
      "----------\n",
      "train Loss: 0.03 Acc: 99.0 F1: 0.9809\n"
     ]
    },
    {
     "output_type": "stream",
     "name": "stderr",
     "text": [
      " 90%|█████████ | 18/20 [2:25:28<16:10, 485.21s/it]"
     ]
    },
    {
     "output_type": "stream",
     "name": "stdout",
     "text": [
      "valid Loss: 0.63 Acc: 86.5 F1: 0.5354\n",
      "Epoch 18/19\n",
      "----------\n",
      "train Loss: 0.02 Acc: 99.3 F1: 0.9888\n"
     ]
    },
    {
     "output_type": "stream",
     "name": "stderr",
     "text": [
      " 95%|█████████▌| 19/20 [2:33:33<08:05, 485.24s/it]"
     ]
    },
    {
     "output_type": "stream",
     "name": "stdout",
     "text": [
      "valid Loss: 0.65 Acc: 84.3 F1: 0.5046\n",
      "Epoch 19/19\n",
      "----------\n",
      "train Loss: 0.03 Acc: 99.1 F1: 0.9856\n"
     ]
    },
    {
     "output_type": "stream",
     "name": "stderr",
     "text": [
      "100%|██████████| 20/20 [2:41:37<00:00, 484.90s/it]"
     ]
    },
    {
     "output_type": "stream",
     "name": "stdout",
     "text": [
      "valid Loss: 0.61 Acc: 87.0 F1: 0.5539\n",
      "Training complete in 161m 38s\n",
      "Best valid Acc: 16 - 89.7\n",
      "Best valid f1: 16 - 81.1\n"
     ]
    },
    {
     "output_type": "stream",
     "name": "stderr",
     "text": [
      "\n",
      "  0%|          | 0/20 [00:00<?, ?it/s]"
     ]
    },
    {
     "output_type": "stream",
     "name": "stdout",
     "text": [
      "model saved\n",
      "\n",
      "\n",
      "===============1-Fold Cross Validation===============\n",
      "Epoch 0/19\n",
      "----------\n",
      "train Loss: 0.36 Acc: 87.9 F1: 0.8182\n"
     ]
    },
    {
     "output_type": "stream",
     "name": "stderr",
     "text": [
      "  5%|▌         | 1/20 [08:02<2:32:48, 482.54s/it]"
     ]
    },
    {
     "output_type": "stream",
     "name": "stdout",
     "text": [
      "valid Loss: 0.34 Acc: 89.4 F1: 0.6721\n",
      "==> best model saved - 0 / 89.4 / 96.7867\n",
      "Epoch 1/19\n",
      "----------\n",
      "train Loss: 0.07 Acc: 97.9 F1: 0.9645\n"
     ]
    },
    {
     "output_type": "stream",
     "name": "stderr",
     "text": [
      " 10%|█         | 2/20 [16:06<2:24:51, 482.88s/it]"
     ]
    },
    {
     "output_type": "stream",
     "name": "stdout",
     "text": [
      "valid Loss: 0.44 Acc: 90.4 F1: 0.6965\n",
      "==> best model saved - 1 / 90.4 / 100.2993\n",
      "Epoch 2/19\n",
      "----------\n",
      "train Loss: 0.04 Acc: 98.7 F1: 0.9778\n"
     ]
    },
    {
     "output_type": "stream",
     "name": "stderr",
     "text": [
      " 15%|█▌        | 3/20 [24:09<2:16:51, 483.05s/it]"
     ]
    },
    {
     "output_type": "stream",
     "name": "stdout",
     "text": [
      "valid Loss: 0.39 Acc: 92.1 F1: 0.7095\n",
      "==> best model saved - 2 / 92.1 / 102.1662\n",
      "Epoch 3/19\n",
      "----------\n",
      "train Loss: 0.02 Acc: 99.4 F1: 0.9903\n"
     ]
    },
    {
     "output_type": "stream",
     "name": "stderr",
     "text": [
      " 20%|██        | 4/20 [32:13<2:08:52, 483.28s/it]"
     ]
    },
    {
     "output_type": "stream",
     "name": "stdout",
     "text": [
      "valid Loss: 0.53 Acc: 91.9 F1: 0.7067\n",
      "Epoch 4/19\n",
      "----------\n",
      "train Loss: 0.01 Acc: 99.7 F1: 0.9943\n"
     ]
    },
    {
     "output_type": "stream",
     "name": "stderr",
     "text": [
      " 25%|██▌       | 5/20 [40:17<2:00:51, 483.41s/it]"
     ]
    },
    {
     "output_type": "stream",
     "name": "stdout",
     "text": [
      "valid Loss: 0.47 Acc: 92.5 F1: 0.7345\n",
      "==> best model saved - 4 / 92.5 / 105.7643\n",
      "Epoch 5/19\n",
      "----------\n",
      "train Loss: 0.00 Acc: 99.9 F1: 0.9986\n"
     ]
    },
    {
     "output_type": "stream",
     "name": "stderr",
     "text": [
      " 30%|███       | 6/20 [48:20<1:52:48, 483.45s/it]"
     ]
    },
    {
     "output_type": "stream",
     "name": "stdout",
     "text": [
      "valid Loss: 0.51 Acc: 92.4 F1: 0.7058\n",
      "Epoch 6/19\n",
      "----------\n",
      "train Loss: 0.00 Acc: 100.0 F1: 0.9999\n"
     ]
    },
    {
     "output_type": "stream",
     "name": "stderr",
     "text": [
      " 35%|███▌      | 7/20 [56:24<1:44:44, 483.45s/it]"
     ]
    },
    {
     "output_type": "stream",
     "name": "stdout",
     "text": [
      "valid Loss: 0.52 Acc: 93.0 F1: 0.7484\n",
      "==> best model saved - 6 / 93.0 / 107.7660\n",
      "Epoch 7/19\n",
      "----------\n",
      "train Loss: 0.00 Acc: 100.0 F1: 1.0000\n"
     ]
    },
    {
     "output_type": "stream",
     "name": "stderr",
     "text": [
      " 40%|████      | 8/20 [1:04:27<1:36:40, 483.40s/it]"
     ]
    },
    {
     "output_type": "stream",
     "name": "stdout",
     "text": [
      "valid Loss: 0.52 Acc: 93.1 F1: 0.7397\n",
      "==> best model saved - 7 / 93.1 / 106.5139\n",
      "Epoch 8/19\n",
      "----------\n",
      "train Loss: 0.00 Acc: 100.0 F1: 1.0000\n"
     ]
    },
    {
     "output_type": "stream",
     "name": "stderr",
     "text": [
      " 45%|████▌     | 9/20 [1:12:31<1:28:38, 483.46s/it]"
     ]
    },
    {
     "output_type": "stream",
     "name": "stdout",
     "text": [
      "valid Loss: 0.54 Acc: 93.0 F1: 0.7358\n",
      "Epoch 9/19\n",
      "----------\n",
      "train Loss: 0.00 Acc: 100.0 F1: 1.0000\n"
     ]
    },
    {
     "output_type": "stream",
     "name": "stderr",
     "text": [
      " 50%|█████     | 10/20 [1:20:34<1:20:33, 483.39s/it]"
     ]
    },
    {
     "output_type": "stream",
     "name": "stdout",
     "text": [
      "valid Loss: 0.54 Acc: 92.9 F1: 0.7342\n",
      "Epoch 10/19\n",
      "----------\n",
      "train Loss: 0.00 Acc: 100.0 F1: 1.0000\n"
     ]
    },
    {
     "output_type": "stream",
     "name": "stderr",
     "text": [
      " 55%|█████▌    | 11/20 [1:28:36<1:12:26, 482.92s/it]"
     ]
    },
    {
     "output_type": "stream",
     "name": "stdout",
     "text": [
      "valid Loss: 0.54 Acc: 92.9 F1: 0.7342\n",
      "Epoch 11/19\n",
      "----------\n",
      "train Loss: 0.00 Acc: 100.0 F1: 1.0000\n"
     ]
    },
    {
     "output_type": "stream",
     "name": "stderr",
     "text": [
      " 60%|██████    | 12/20 [1:36:38<1:04:21, 482.64s/it]"
     ]
    },
    {
     "output_type": "stream",
     "name": "stdout",
     "text": [
      "valid Loss: 0.54 Acc: 92.9 F1: 0.7378\n",
      "Epoch 12/19\n",
      "----------\n",
      "train Loss: 0.00 Acc: 100.0 F1: 1.0000\n"
     ]
    },
    {
     "output_type": "stream",
     "name": "stderr",
     "text": [
      " 65%|██████▌   | 13/20 [1:44:40<56:17, 482.49s/it]  "
     ]
    },
    {
     "output_type": "stream",
     "name": "stdout",
     "text": [
      "valid Loss: 0.59 Acc: 92.9 F1: 0.7422\n",
      "Epoch 13/19\n",
      "----------\n",
      "train Loss: 0.01 Acc: 99.8 F1: 0.9957\n"
     ]
    },
    {
     "output_type": "stream",
     "name": "stderr",
     "text": [
      " 70%|███████   | 14/20 [1:52:42<48:14, 482.42s/it]"
     ]
    },
    {
     "output_type": "stream",
     "name": "stdout",
     "text": [
      "valid Loss: 0.45 Acc: 93.5 F1: 0.7369\n",
      "==> best model saved - 13 / 93.5 / 106.1157\n",
      "Epoch 14/19\n",
      "----------\n",
      "train Loss: 0.01 Acc: 99.8 F1: 0.9957\n"
     ]
    },
    {
     "output_type": "stream",
     "name": "stderr",
     "text": [
      " 75%|███████▌  | 15/20 [2:00:44<40:11, 482.36s/it]"
     ]
    },
    {
     "output_type": "stream",
     "name": "stdout",
     "text": [
      "valid Loss: 0.57 Acc: 91.4 F1: 0.6821\n",
      "Epoch 15/19\n",
      "----------\n",
      "train Loss: 0.02 Acc: 99.4 F1: 0.9877\n"
     ]
    },
    {
     "output_type": "stream",
     "name": "stderr",
     "text": [
      " 80%|████████  | 16/20 [2:08:46<32:09, 482.26s/it]"
     ]
    },
    {
     "output_type": "stream",
     "name": "stdout",
     "text": [
      "valid Loss: 0.48 Acc: 91.7 F1: 0.7003\n",
      "Epoch 16/19\n",
      "----------\n",
      "train Loss: 0.01 Acc: 99.7 F1: 0.9950\n"
     ]
    },
    {
     "output_type": "stream",
     "name": "stderr",
     "text": [
      " 85%|████████▌ | 17/20 [2:16:48<24:06, 482.21s/it]"
     ]
    },
    {
     "output_type": "stream",
     "name": "stdout",
     "text": [
      "valid Loss: 0.58 Acc: 91.7 F1: 0.6950\n",
      "Epoch 17/19\n",
      "----------\n",
      "train Loss: 0.03 Acc: 99.2 F1: 0.9847\n"
     ]
    },
    {
     "output_type": "stream",
     "name": "stderr",
     "text": [
      " 90%|█████████ | 18/20 [2:24:50<16:04, 482.15s/it]"
     ]
    },
    {
     "output_type": "stream",
     "name": "stdout",
     "text": [
      "valid Loss: 0.48 Acc: 91.3 F1: 0.6902\n",
      "Epoch 18/19\n",
      "----------\n",
      "train Loss: 0.03 Acc: 99.0 F1: 0.9837\n"
     ]
    },
    {
     "output_type": "stream",
     "name": "stderr",
     "text": [
      " 95%|█████████▌| 19/20 [2:32:53<08:02, 482.21s/it]"
     ]
    },
    {
     "output_type": "stream",
     "name": "stdout",
     "text": [
      "valid Loss: 0.61 Acc: 89.3 F1: 0.6598\n",
      "Epoch 19/19\n",
      "----------\n",
      "train Loss: 0.03 Acc: 99.3 F1: 0.9888\n"
     ]
    },
    {
     "output_type": "stream",
     "name": "stderr",
     "text": [
      "100%|██████████| 20/20 [2:40:55<00:00, 482.78s/it]"
     ]
    },
    {
     "output_type": "stream",
     "name": "stdout",
     "text": [
      "valid Loss: 0.53 Acc: 89.7 F1: 0.6597\n",
      "Training complete in 160m 56s\n",
      "Best valid Acc: 13 - 93.5\n",
      "Best valid f1: 13 - 106.1\n"
     ]
    },
    {
     "output_type": "stream",
     "name": "stderr",
     "text": [
      "\n",
      "  0%|          | 0/20 [00:00<?, ?it/s]"
     ]
    },
    {
     "output_type": "stream",
     "name": "stdout",
     "text": [
      "model saved\n",
      "\n",
      "\n",
      "===============1-Fold Cross Validation===============\n",
      "Epoch 0/19\n",
      "----------\n",
      "train Loss: 0.35 Acc: 88.2 F1: 0.8196\n"
     ]
    },
    {
     "output_type": "stream",
     "name": "stderr",
     "text": [
      "  5%|▌         | 1/20 [08:01<2:32:31, 481.67s/it]"
     ]
    },
    {
     "output_type": "stream",
     "name": "stdout",
     "text": [
      "valid Loss: 0.42 Acc: 87.8 F1: 0.5924\n",
      "==> best model saved - 0 / 87.8 / 85.3005\n",
      "Epoch 1/19\n",
      "----------\n",
      "train Loss: 0.06 Acc: 97.9 F1: 0.9646\n"
     ]
    },
    {
     "output_type": "stream",
     "name": "stderr",
     "text": [
      " 10%|█         | 2/20 [16:03<2:24:30, 481.69s/it]"
     ]
    },
    {
     "output_type": "stream",
     "name": "stdout",
     "text": [
      "valid Loss: 0.65 Acc: 85.3 F1: 0.6450\n",
      "Epoch 2/19\n",
      "----------\n",
      "train Loss: 0.03 Acc: 98.9 F1: 0.9814\n"
     ]
    },
    {
     "output_type": "stream",
     "name": "stderr",
     "text": [
      " 15%|█▌        | 3/20 [24:05<2:16:29, 481.75s/it]"
     ]
    },
    {
     "output_type": "stream",
     "name": "stdout",
     "text": [
      "valid Loss: 0.61 Acc: 88.0 F1: 0.6535\n",
      "==> best model saved - 2 / 88.0 / 94.1032\n",
      "Epoch 3/19\n",
      "----------\n",
      "train Loss: 0.02 Acc: 99.6 F1: 0.9929\n"
     ]
    },
    {
     "output_type": "stream",
     "name": "stderr",
     "text": [
      " 20%|██        | 4/20 [32:07<2:08:29, 481.84s/it]"
     ]
    },
    {
     "output_type": "stream",
     "name": "stdout",
     "text": [
      "valid Loss: 0.68 Acc: 87.9 F1: 0.6482\n",
      "Epoch 4/19\n",
      "----------\n",
      "train Loss: 0.01 Acc: 99.7 F1: 0.9955\n"
     ]
    },
    {
     "output_type": "stream",
     "name": "stderr",
     "text": [
      " 25%|██▌       | 5/20 [40:09<2:00:29, 481.94s/it]"
     ]
    },
    {
     "output_type": "stream",
     "name": "stdout",
     "text": [
      "valid Loss: 0.67 Acc: 88.7 F1: 0.6879\n",
      "==> best model saved - 4 / 88.7 / 99.0543\n",
      "Epoch 5/19\n",
      "----------\n",
      "train Loss: 0.00 Acc: 99.9 F1: 0.9988\n"
     ]
    },
    {
     "output_type": "stream",
     "name": "stderr",
     "text": [
      " 30%|███       | 6/20 [48:11<1:52:27, 481.93s/it]"
     ]
    },
    {
     "output_type": "stream",
     "name": "stdout",
     "text": [
      "valid Loss: 0.89 Acc: 87.2 F1: 0.6705\n",
      "Epoch 6/19\n",
      "----------\n",
      "train Loss: 0.00 Acc: 99.9 F1: 0.9989\n"
     ]
    },
    {
     "output_type": "stream",
     "name": "stderr",
     "text": [
      " 35%|███▌      | 7/20 [56:13<1:44:25, 481.94s/it]"
     ]
    },
    {
     "output_type": "stream",
     "name": "stdout",
     "text": [
      "valid Loss: 0.81 Acc: 87.9 F1: 0.6775\n",
      "Epoch 7/19\n",
      "----------\n",
      "train Loss: 0.00 Acc: 100.0 F1: 0.9996\n"
     ]
    },
    {
     "output_type": "stream",
     "name": "stderr",
     "text": [
      " 40%|████      | 8/20 [1:04:15<1:36:22, 481.87s/it]"
     ]
    },
    {
     "output_type": "stream",
     "name": "stdout",
     "text": [
      "valid Loss: 0.69 Acc: 89.8 F1: 0.6942\n",
      "==> best model saved - 7 / 89.8 / 99.9620\n",
      "Epoch 8/19\n",
      "----------\n",
      "train Loss: 0.00 Acc: 100.0 F1: 0.9999\n"
     ]
    },
    {
     "output_type": "stream",
     "name": "stderr",
     "text": [
      " 45%|████▌     | 9/20 [1:12:17<1:28:20, 481.89s/it]"
     ]
    },
    {
     "output_type": "stream",
     "name": "stdout",
     "text": [
      "valid Loss: 0.67 Acc: 90.1 F1: 0.7012\n",
      "==> best model saved - 8 / 90.1 / 100.9759\n",
      "Epoch 9/19\n",
      "----------\n",
      "train Loss: 0.00 Acc: 100.0 F1: 1.0000\n"
     ]
    },
    {
     "output_type": "stream",
     "name": "stderr",
     "text": [
      " 50%|█████     | 10/20 [1:20:18<1:20:19, 481.90s/it]"
     ]
    },
    {
     "output_type": "stream",
     "name": "stdout",
     "text": [
      "valid Loss: 0.67 Acc: 90.1 F1: 0.7037\n",
      "==> best model saved - 9 / 90.1 / 101.3358\n",
      "Epoch 10/19\n",
      "----------\n",
      "train Loss: 0.00 Acc: 100.0 F1: 1.0000\n"
     ]
    },
    {
     "output_type": "stream",
     "name": "stderr",
     "text": [
      " 55%|█████▌    | 11/20 [1:28:21<1:12:17, 481.96s/it]"
     ]
    },
    {
     "output_type": "stream",
     "name": "stdout",
     "text": [
      "valid Loss: 0.67 Acc: 90.1 F1: 0.7037\n",
      "Epoch 11/19\n",
      "----------\n",
      "train Loss: 0.00 Acc: 100.0 F1: 1.0000\n"
     ]
    },
    {
     "output_type": "stream",
     "name": "stderr",
     "text": [
      " 60%|██████    | 12/20 [1:36:23<1:04:17, 482.13s/it]"
     ]
    },
    {
     "output_type": "stream",
     "name": "stdout",
     "text": [
      "valid Loss: 0.69 Acc: 90.1 F1: 0.7049\n",
      "Epoch 12/19\n",
      "----------\n",
      "train Loss: 0.00 Acc: 100.0 F1: 1.0000\n"
     ]
    },
    {
     "output_type": "stream",
     "name": "stderr",
     "text": [
      " 65%|██████▌   | 13/20 [1:44:25<56:14, 482.11s/it]  "
     ]
    },
    {
     "output_type": "stream",
     "name": "stdout",
     "text": [
      "valid Loss: 0.75 Acc: 89.7 F1: 0.7002\n",
      "Epoch 13/19\n",
      "----------\n",
      "train Loss: 0.01 Acc: 99.8 F1: 0.9969\n"
     ]
    },
    {
     "output_type": "stream",
     "name": "stderr",
     "text": [
      " 70%|███████   | 14/20 [1:52:27<48:12, 482.13s/it]"
     ]
    },
    {
     "output_type": "stream",
     "name": "stdout",
     "text": [
      "valid Loss: 0.91 Acc: 87.2 F1: 0.6621\n",
      "Epoch 14/19\n",
      "----------\n",
      "train Loss: 0.01 Acc: 99.7 F1: 0.9955\n"
     ]
    },
    {
     "output_type": "stream",
     "name": "stderr",
     "text": [
      " 75%|███████▌  | 15/20 [2:00:29<40:10, 482.08s/it]"
     ]
    },
    {
     "output_type": "stream",
     "name": "stdout",
     "text": [
      "valid Loss: 0.88 Acc: 88.6 F1: 0.6910\n",
      "Epoch 15/19\n",
      "----------\n",
      "train Loss: 0.01 Acc: 99.6 F1: 0.9938\n"
     ]
    },
    {
     "output_type": "stream",
     "name": "stderr",
     "text": [
      " 80%|████████  | 16/20 [2:08:32<32:08, 482.12s/it]"
     ]
    },
    {
     "output_type": "stream",
     "name": "stdout",
     "text": [
      "valid Loss: 0.68 Acc: 87.7 F1: 0.6388\n",
      "Epoch 16/19\n",
      "----------\n",
      "train Loss: 0.02 Acc: 99.4 F1: 0.9886\n"
     ]
    },
    {
     "output_type": "stream",
     "name": "stderr",
     "text": [
      " 85%|████████▌ | 17/20 [2:16:34<24:06, 482.09s/it]"
     ]
    },
    {
     "output_type": "stream",
     "name": "stdout",
     "text": [
      "valid Loss: 0.71 Acc: 89.3 F1: 0.6749\n",
      "Epoch 17/19\n",
      "----------\n",
      "train Loss: 0.03 Acc: 99.1 F1: 0.9842\n"
     ]
    },
    {
     "output_type": "stream",
     "name": "stderr",
     "text": [
      " 90%|█████████ | 18/20 [2:24:35<16:03, 481.99s/it]"
     ]
    },
    {
     "output_type": "stream",
     "name": "stdout",
     "text": [
      "valid Loss: 0.68 Acc: 87.8 F1: 0.6455\n",
      "Epoch 18/19\n",
      "----------\n",
      "train Loss: 0.02 Acc: 99.3 F1: 0.9883\n"
     ]
    },
    {
     "output_type": "stream",
     "name": "stderr",
     "text": [
      " 95%|█████████▌| 19/20 [2:32:37<08:02, 482.02s/it]"
     ]
    },
    {
     "output_type": "stream",
     "name": "stdout",
     "text": [
      "valid Loss: 0.64 Acc: 87.9 F1: 0.6426\n",
      "Epoch 19/19\n",
      "----------\n",
      "train Loss: 0.03 Acc: 99.2 F1: 0.9872\n"
     ]
    },
    {
     "output_type": "stream",
     "name": "stderr",
     "text": [
      "100%|██████████| 20/20 [2:40:39<00:00, 481.97s/it]"
     ]
    },
    {
     "output_type": "stream",
     "name": "stdout",
     "text": [
      "valid Loss: 1.02 Acc: 83.7 F1: 0.6205\n",
      "Training complete in 160m 39s\n",
      "Best valid Acc: 9 - 90.1\n",
      "Best valid f1: 9 - 101.3\n"
     ]
    },
    {
     "output_type": "stream",
     "name": "stderr",
     "text": [
      "\n",
      "  0%|          | 0/20 [00:00<?, ?it/s]"
     ]
    },
    {
     "output_type": "stream",
     "name": "stdout",
     "text": [
      "model saved\n",
      "\n",
      "\n",
      "===============1-Fold Cross Validation===============\n",
      "Epoch 0/19\n",
      "----------\n",
      "train Loss: 0.33 Acc: 88.8 F1: 0.8287\n"
     ]
    },
    {
     "output_type": "stream",
     "name": "stderr",
     "text": [
      "  5%|▌         | 1/20 [08:02<2:32:39, 482.05s/it]"
     ]
    },
    {
     "output_type": "stream",
     "name": "stdout",
     "text": [
      "valid Loss: 0.85 Acc: 76.7 F1: 0.5035\n",
      "==> best model saved - 0 / 76.7 / 72.5031\n",
      "Epoch 1/19\n",
      "----------\n",
      "train Loss: 0.07 Acc: 97.6 F1: 0.9599\n"
     ]
    },
    {
     "output_type": "stream",
     "name": "stderr",
     "text": [
      " 10%|█         | 2/20 [16:04<2:24:40, 482.23s/it]"
     ]
    },
    {
     "output_type": "stream",
     "name": "stdout",
     "text": [
      "valid Loss: 0.72 Acc: 83.2 F1: 0.6015\n",
      "==> best model saved - 1 / 83.2 / 86.6121\n",
      "Epoch 2/19\n",
      "----------\n",
      "train Loss: 0.03 Acc: 99.0 F1: 0.9844\n"
     ]
    },
    {
     "output_type": "stream",
     "name": "stderr",
     "text": [
      " 15%|█▌        | 3/20 [24:07<2:16:39, 482.33s/it]"
     ]
    },
    {
     "output_type": "stream",
     "name": "stdout",
     "text": [
      "valid Loss: 1.36 Acc: 77.7 F1: 0.5752\n",
      "Epoch 3/19\n",
      "----------\n",
      "train Loss: 0.02 Acc: 99.3 F1: 0.9874\n"
     ]
    },
    {
     "output_type": "stream",
     "name": "stderr",
     "text": [
      " 20%|██        | 4/20 [32:10<2:08:39, 482.49s/it]"
     ]
    },
    {
     "output_type": "stream",
     "name": "stdout",
     "text": [
      "valid Loss: 0.97 Acc: 82.7 F1: 0.6248\n",
      "Epoch 4/19\n",
      "----------\n",
      "train Loss: 0.02 Acc: 99.6 F1: 0.9927\n"
     ]
    },
    {
     "output_type": "stream",
     "name": "stderr",
     "text": [
      " 25%|██▌       | 5/20 [40:13<2:00:39, 482.61s/it]"
     ]
    },
    {
     "output_type": "stream",
     "name": "stdout",
     "text": [
      "valid Loss: 0.95 Acc: 82.9 F1: 0.6256\n",
      "Epoch 5/19\n",
      "----------\n",
      "train Loss: 0.01 Acc: 99.8 F1: 0.9977\n"
     ]
    },
    {
     "output_type": "stream",
     "name": "stderr",
     "text": [
      " 30%|███       | 6/20 [48:16<1:52:38, 482.73s/it]"
     ]
    },
    {
     "output_type": "stream",
     "name": "stdout",
     "text": [
      "valid Loss: 1.10 Acc: 83.3 F1: 0.6426\n",
      "==> best model saved - 5 / 83.3 / 92.5336\n",
      "Epoch 6/19\n",
      "----------\n",
      "train Loss: 0.00 Acc: 100.0 F1: 0.9994\n"
     ]
    },
    {
     "output_type": "stream",
     "name": "stderr",
     "text": [
      " 35%|███▌      | 7/20 [56:18<1:44:35, 482.72s/it]"
     ]
    },
    {
     "output_type": "stream",
     "name": "stdout",
     "text": [
      "valid Loss: 1.20 Acc: 82.4 F1: 0.6446\n",
      "Epoch 7/19\n",
      "----------\n",
      "train Loss: 0.00 Acc: 100.0 F1: 1.0000\n"
     ]
    },
    {
     "output_type": "stream",
     "name": "stderr",
     "text": [
      " 40%|████      | 8/20 [1:04:21<1:36:32, 482.73s/it]"
     ]
    },
    {
     "output_type": "stream",
     "name": "stdout",
     "text": [
      "valid Loss: 1.18 Acc: 83.0 F1: 0.6550\n",
      "Epoch 8/19\n",
      "----------\n",
      "train Loss: 0.00 Acc: 100.0 F1: 1.0000\n"
     ]
    },
    {
     "output_type": "stream",
     "name": "stderr",
     "text": [
      " 45%|████▌     | 9/20 [1:12:23<1:28:29, 482.65s/it]"
     ]
    },
    {
     "output_type": "stream",
     "name": "stdout",
     "text": [
      "valid Loss: 1.31 Acc: 82.4 F1: 0.6497\n",
      "Epoch 9/19\n",
      "----------\n",
      "train Loss: 0.00 Acc: 100.0 F1: 0.9999\n"
     ]
    },
    {
     "output_type": "stream",
     "name": "stderr",
     "text": [
      " 50%|█████     | 10/20 [1:20:26<1:20:25, 482.56s/it]"
     ]
    },
    {
     "output_type": "stream",
     "name": "stdout",
     "text": [
      "valid Loss: 1.30 Acc: 82.4 F1: 0.6504\n",
      "Epoch 10/19\n",
      "----------\n",
      "train Loss: 0.00 Acc: 100.0 F1: 0.9999\n"
     ]
    },
    {
     "output_type": "stream",
     "name": "stderr",
     "text": [
      " 55%|█████▌    | 11/20 [1:28:28<1:12:22, 482.49s/it]"
     ]
    },
    {
     "output_type": "stream",
     "name": "stdout",
     "text": [
      "valid Loss: 1.30 Acc: 82.4 F1: 0.6504\n",
      "Epoch 11/19\n",
      "----------\n",
      "train Loss: 0.00 Acc: 100.0 F1: 1.0000\n"
     ]
    },
    {
     "output_type": "stream",
     "name": "stderr",
     "text": [
      " 60%|██████    | 12/20 [1:38:53<1:10:02, 525.26s/it]"
     ]
    },
    {
     "output_type": "stream",
     "name": "stdout",
     "text": [
      "valid Loss: 1.24 Acc: 83.1 F1: 0.6521\n",
      "Epoch 12/19\n",
      "----------\n",
      "train Loss: 0.00 Acc: 100.0 F1: 0.9997\n"
     ]
    },
    {
     "output_type": "stream",
     "name": "stderr",
     "text": [
      " 65%|██████▌   | 13/20 [1:52:38<1:11:46, 615.27s/it]"
     ]
    },
    {
     "output_type": "stream",
     "name": "stdout",
     "text": [
      "valid Loss: 1.28 Acc: 82.7 F1: 0.6505\n",
      "Epoch 13/19\n",
      "----------\n",
      "train Loss: 0.01 Acc: 99.8 F1: 0.9956\n"
     ]
    },
    {
     "output_type": "stream",
     "name": "stderr",
     "text": [
      " 70%|███████   | 14/20 [2:00:42<57:34, 575.77s/it]  "
     ]
    },
    {
     "output_type": "stream",
     "name": "stdout",
     "text": [
      "valid Loss: 1.47 Acc: 80.5 F1: 0.6180\n",
      "Epoch 14/19\n",
      "----------\n",
      "train Loss: 0.01 Acc: 99.9 F1: 0.9987\n"
     ]
    },
    {
     "output_type": "stream",
     "name": "stderr",
     "text": [
      " 75%|███████▌  | 15/20 [2:08:45<45:39, 547.83s/it]"
     ]
    },
    {
     "output_type": "stream",
     "name": "stdout",
     "text": [
      "valid Loss: 1.44 Acc: 81.5 F1: 0.6404\n",
      "Epoch 15/19\n",
      "----------\n",
      "train Loss: 0.02 Acc: 99.4 F1: 0.9920\n"
     ]
    },
    {
     "output_type": "stream",
     "name": "stderr",
     "text": [
      " 80%|████████  | 16/20 [2:16:47<35:12, 528.16s/it]"
     ]
    },
    {
     "output_type": "stream",
     "name": "stdout",
     "text": [
      "valid Loss: 1.17 Acc: 81.0 F1: 0.5738\n",
      "Epoch 16/19\n",
      "----------\n",
      "train Loss: 0.02 Acc: 99.5 F1: 0.9908\n"
     ]
    },
    {
     "output_type": "stream",
     "name": "stderr",
     "text": [
      " 85%|████████▌ | 17/20 [2:24:49<25:43, 514.36s/it]"
     ]
    },
    {
     "output_type": "stream",
     "name": "stdout",
     "text": [
      "valid Loss: 1.20 Acc: 80.7 F1: 0.6076\n",
      "Epoch 17/19\n",
      "----------\n",
      "train Loss: 0.03 Acc: 99.1 F1: 0.9841\n"
     ]
    },
    {
     "output_type": "stream",
     "name": "stderr",
     "text": [
      " 90%|█████████ | 18/20 [2:32:52<16:49, 504.82s/it]"
     ]
    },
    {
     "output_type": "stream",
     "name": "stdout",
     "text": [
      "valid Loss: 1.37 Acc: 80.0 F1: 0.6207\n",
      "Epoch 18/19\n",
      "----------\n",
      "train Loss: 0.02 Acc: 99.4 F1: 0.9876\n"
     ]
    },
    {
     "output_type": "stream",
     "name": "stderr",
     "text": [
      " 95%|█████████▌| 19/20 [2:40:55<08:18, 498.34s/it]"
     ]
    },
    {
     "output_type": "stream",
     "name": "stdout",
     "text": [
      "valid Loss: 0.83 Acc: 85.5 F1: 0.6487\n",
      "==> best model saved - 18 / 85.5 / 93.4171\n",
      "Epoch 19/19\n",
      "----------\n",
      "train Loss: 0.02 Acc: 99.4 F1: 0.9902\n"
     ]
    },
    {
     "output_type": "stream",
     "name": "stderr",
     "text": [
      "100%|██████████| 20/20 [2:48:58<00:00, 506.95s/it]"
     ]
    },
    {
     "output_type": "stream",
     "name": "stdout",
     "text": [
      "valid Loss: 1.76 Acc: 75.9 F1: 0.5703\n",
      "Training complete in 168m 59s\n",
      "Best valid Acc: 18 - 85.5\n",
      "Best valid f1: 18 - 93.4\n"
     ]
    },
    {
     "output_type": "stream",
     "name": "stderr",
     "text": [
      "\n",
      "  0%|          | 0/20 [00:00<?, ?it/s]"
     ]
    },
    {
     "output_type": "stream",
     "name": "stdout",
     "text": [
      "model saved\n",
      "\n",
      "\n",
      "===============1-Fold Cross Validation===============\n",
      "Epoch 0/19\n",
      "----------\n",
      "train Loss: 0.33 Acc: 88.9 F1: 0.8283\n"
     ]
    },
    {
     "output_type": "stream",
     "name": "stderr",
     "text": [
      "  5%|▌         | 1/20 [08:02<2:32:54, 482.89s/it]"
     ]
    },
    {
     "output_type": "stream",
     "name": "stdout",
     "text": [
      "valid Loss: 0.71 Acc: 82.1 F1: 0.5959\n",
      "==> best model saved - 0 / 82.1 / 85.8111\n",
      "Epoch 1/19\n",
      "----------\n",
      "train Loss: 0.06 Acc: 98.1 F1: 0.9691\n"
     ]
    },
    {
     "output_type": "stream",
     "name": "stderr",
     "text": [
      " 10%|█         | 2/20 [16:05<2:24:51, 482.86s/it]"
     ]
    },
    {
     "output_type": "stream",
     "name": "stdout",
     "text": [
      "valid Loss: 0.93 Acc: 80.3 F1: 0.5852\n",
      "Epoch 2/19\n",
      "----------\n",
      "train Loss: 0.03 Acc: 98.9 F1: 0.9805\n"
     ]
    },
    {
     "output_type": "stream",
     "name": "stderr",
     "text": [
      " 15%|█▌        | 3/20 [24:08<2:16:46, 482.74s/it]"
     ]
    },
    {
     "output_type": "stream",
     "name": "stdout",
     "text": [
      "valid Loss: 0.73 Acc: 83.4 F1: 0.5936\n",
      "==> best model saved - 2 / 83.4 / 85.4807\n",
      "Epoch 3/19\n",
      "----------\n",
      "train Loss: 0.02 Acc: 99.5 F1: 0.9910\n"
     ]
    },
    {
     "output_type": "stream",
     "name": "stderr",
     "text": [
      " 20%|██        | 4/20 [32:10<2:08:42, 482.64s/it]"
     ]
    },
    {
     "output_type": "stream",
     "name": "stdout",
     "text": [
      "valid Loss: 1.03 Acc: 81.6 F1: 0.6261\n",
      "Epoch 4/19\n",
      "----------\n",
      "train Loss: 0.01 Acc: 99.8 F1: 0.9967\n"
     ]
    },
    {
     "output_type": "stream",
     "name": "stderr",
     "text": [
      " 25%|██▌       | 5/20 [40:13<2:00:38, 482.60s/it]"
     ]
    },
    {
     "output_type": "stream",
     "name": "stdout",
     "text": [
      "valid Loss: 0.96 Acc: 86.1 F1: 0.6524\n",
      "==> best model saved - 4 / 86.1 / 93.9421\n",
      "Epoch 5/19\n",
      "----------\n",
      "train Loss: 0.01 Acc: 99.8 F1: 0.9966\n"
     ]
    },
    {
     "output_type": "stream",
     "name": "stderr",
     "text": [
      " 30%|███       | 6/20 [48:15<1:52:36, 482.62s/it]"
     ]
    },
    {
     "output_type": "stream",
     "name": "stdout",
     "text": [
      "valid Loss: 1.16 Acc: 83.1 F1: 0.6267\n",
      "Epoch 6/19\n",
      "----------\n",
      "train Loss: 0.00 Acc: 99.9 F1: 0.9988\n"
     ]
    },
    {
     "output_type": "stream",
     "name": "stderr",
     "text": [
      " 35%|███▌      | 7/20 [56:18<1:44:34, 482.64s/it]"
     ]
    },
    {
     "output_type": "stream",
     "name": "stdout",
     "text": [
      "valid Loss: 1.11 Acc: 84.1 F1: 0.6474\n",
      "Epoch 7/19\n",
      "----------\n",
      "train Loss: 0.00 Acc: 100.0 F1: 1.0000\n"
     ]
    },
    {
     "output_type": "stream",
     "name": "stderr",
     "text": [
      " 40%|████      | 8/20 [1:04:21<1:36:31, 482.65s/it]"
     ]
    },
    {
     "output_type": "stream",
     "name": "stdout",
     "text": [
      "valid Loss: 1.04 Acc: 85.4 F1: 0.6553\n",
      "Epoch 8/19\n",
      "----------\n",
      "train Loss: 0.00 Acc: 100.0 F1: 1.0000\n"
     ]
    },
    {
     "output_type": "stream",
     "name": "stderr",
     "text": [
      " 45%|████▌     | 9/20 [1:12:25<1:28:33, 483.07s/it]"
     ]
    },
    {
     "output_type": "stream",
     "name": "stdout",
     "text": [
      "valid Loss: 1.10 Acc: 85.1 F1: 0.6623\n",
      "Epoch 9/19\n",
      "----------\n",
      "train Loss: 0.00 Acc: 100.0 F1: 1.0000\n"
     ]
    },
    {
     "output_type": "stream",
     "name": "stderr",
     "text": [
      " 50%|█████     | 10/20 [1:20:31<1:20:41, 484.13s/it]"
     ]
    },
    {
     "output_type": "stream",
     "name": "stdout",
     "text": [
      "valid Loss: 1.13 Acc: 84.7 F1: 0.6615\n",
      "Epoch 10/19\n",
      "----------\n",
      "train Loss: 0.00 Acc: 100.0 F1: 1.0000\n"
     ]
    },
    {
     "output_type": "stream",
     "name": "stderr",
     "text": [
      " 55%|█████▌    | 11/20 [1:28:36<1:12:38, 484.29s/it]"
     ]
    },
    {
     "output_type": "stream",
     "name": "stdout",
     "text": [
      "valid Loss: 1.13 Acc: 84.7 F1: 0.6615\n",
      "Epoch 11/19\n",
      "----------\n",
      "train Loss: 0.00 Acc: 100.0 F1: 1.0000\n"
     ]
    },
    {
     "output_type": "stream",
     "name": "stderr",
     "text": [
      " 60%|██████    | 12/20 [1:36:41<1:04:36, 484.56s/it]"
     ]
    },
    {
     "output_type": "stream",
     "name": "stdout",
     "text": [
      "valid Loss: 1.14 Acc: 84.6 F1: 0.6623\n",
      "Epoch 12/19\n",
      "----------\n",
      "train Loss: 0.00 Acc: 100.0 F1: 0.9998\n"
     ]
    },
    {
     "output_type": "stream",
     "name": "stderr",
     "text": [
      " 65%|██████▌   | 13/20 [1:44:47<56:34, 484.89s/it]  "
     ]
    },
    {
     "output_type": "stream",
     "name": "stdout",
     "text": [
      "valid Loss: 1.35 Acc: 82.6 F1: 0.6569\n",
      "Epoch 13/19\n",
      "----------\n",
      "train Loss: 0.00 Acc: 100.0 F1: 0.9991\n"
     ]
    },
    {
     "output_type": "stream",
     "name": "stderr",
     "text": [
      " 70%|███████   | 14/20 [1:52:52<48:30, 485.07s/it]"
     ]
    },
    {
     "output_type": "stream",
     "name": "stdout",
     "text": [
      "valid Loss: 1.42 Acc: 81.9 F1: 0.6518\n",
      "Epoch 14/19\n",
      "----------\n",
      "train Loss: 0.01 Acc: 99.6 F1: 0.9931\n"
     ]
    },
    {
     "output_type": "stream",
     "name": "stderr",
     "text": [
      " 75%|███████▌  | 15/20 [2:00:58<40:25, 485.14s/it]"
     ]
    },
    {
     "output_type": "stream",
     "name": "stdout",
     "text": [
      "valid Loss: 0.94 Acc: 86.1 F1: 0.6237\n",
      "==> best model saved - 14 / 86.1 / 89.8180\n",
      "Epoch 15/19\n",
      "----------\n",
      "train Loss: 0.01 Acc: 99.7 F1: 0.9944\n"
     ]
    },
    {
     "output_type": "stream",
     "name": "stderr",
     "text": [
      " 80%|████████  | 16/20 [2:09:03<32:20, 485.15s/it]"
     ]
    },
    {
     "output_type": "stream",
     "name": "stdout",
     "text": [
      "valid Loss: 1.26 Acc: 81.1 F1: 0.6274\n",
      "Epoch 16/19\n",
      "----------\n",
      "train Loss: 0.02 Acc: 99.5 F1: 0.9885\n"
     ]
    },
    {
     "output_type": "stream",
     "name": "stderr",
     "text": [
      " 85%|████████▌ | 17/20 [2:17:08<24:15, 485.08s/it]"
     ]
    },
    {
     "output_type": "stream",
     "name": "stdout",
     "text": [
      "valid Loss: 1.20 Acc: 82.9 F1: 0.5882\n",
      "Epoch 17/19\n",
      "----------\n",
      "train Loss: 0.02 Acc: 99.2 F1: 0.9882\n"
     ]
    },
    {
     "output_type": "stream",
     "name": "stderr",
     "text": [
      " 90%|█████████ | 18/20 [2:25:13<16:10, 485.09s/it]"
     ]
    },
    {
     "output_type": "stream",
     "name": "stdout",
     "text": [
      "valid Loss: 1.34 Acc: 79.2 F1: 0.5905\n",
      "Epoch 18/19\n",
      "----------\n",
      "train Loss: 0.03 Acc: 99.2 F1: 0.9857\n"
     ]
    },
    {
     "output_type": "stream",
     "name": "stderr",
     "text": [
      " 95%|█████████▌| 19/20 [2:33:18<08:05, 485.02s/it]"
     ]
    },
    {
     "output_type": "stream",
     "name": "stdout",
     "text": [
      "valid Loss: 1.01 Acc: 82.4 F1: 0.6131\n",
      "Epoch 19/19\n",
      "----------\n",
      "train Loss: 0.02 Acc: 99.4 F1: 0.9898\n"
     ]
    },
    {
     "output_type": "stream",
     "name": "stderr",
     "text": [
      "100%|██████████| 20/20 [2:41:22<00:00, 484.14s/it]"
     ]
    },
    {
     "output_type": "stream",
     "name": "stdout",
     "text": [
      "valid Loss: 1.33 Acc: 77.2 F1: 0.5498\n",
      "Training complete in 161m 23s\n",
      "Best valid Acc: 14 - 86.1\n",
      "Best valid f1: 14 - 89.8\n"
     ]
    },
    {
     "output_type": "stream",
     "name": "stderr",
     "text": [
      "\n"
     ]
    },
    {
     "output_type": "stream",
     "name": "stdout",
     "text": [
      "model saved\n"
     ]
    }
   ],
   "metadata": {}
  },
  {
   "cell_type": "code",
   "execution_count": 2,
   "source": [
    "import torch\n",
    "torch.cuda.empty_cache()"
   ],
   "outputs": [],
   "metadata": {}
  },
  {
   "cell_type": "code",
   "execution_count": null,
   "source": [],
   "outputs": [],
   "metadata": {}
  }
 ],
 "metadata": {
  "orig_nbformat": 4,
  "language_info": {
   "name": "python",
   "version": "3.8.5",
   "mimetype": "text/x-python",
   "codemirror_mode": {
    "name": "ipython",
    "version": 3
   },
   "pygments_lexer": "ipython3",
   "nbconvert_exporter": "python",
   "file_extension": ".py"
  },
  "kernelspec": {
   "name": "python3",
   "display_name": "Python 3.8.5 64-bit ('base': conda)"
  },
  "interpreter": {
   "hash": "98b0a9b7b4eaaa670588a142fd0a9b87eaafe866f1db4228be72b4211d12040f"
  }
 },
 "nbformat": 4,
 "nbformat_minor": 2
}