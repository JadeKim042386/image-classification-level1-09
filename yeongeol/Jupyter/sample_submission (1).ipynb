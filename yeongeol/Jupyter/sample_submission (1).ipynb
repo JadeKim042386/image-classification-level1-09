{
 "cells": [
  {
   "cell_type": "markdown",
   "id": "2d97cd7e",
   "metadata": {},
   "source": [
    "## 0. Libarary 불러오기 및 경로설정"
   ]
  },
  {
   "cell_type": "code",
   "execution_count": 1,
   "id": "78b11495",
   "metadata": {},
   "outputs": [],
   "source": [
    "import os\n",
    "import pandas as pd\n",
    "from PIL import Image\n",
    "from tqdm import tqdm\n",
    "import numpy as np\n",
    "\n",
    "import torch\n",
    "import torch.nn as nn\n",
    "import torch.nn.functional as F\n",
    "from torch.utils.data import Dataset, DataLoader\n",
    "\n",
    "from torchvision import transforms\n",
    "from torchvision.transforms import Resize, ToTensor, Normalize"
   ]
  },
  {
   "cell_type": "code",
   "execution_count": 2,
   "id": "49846a85",
   "metadata": {},
   "outputs": [],
   "source": [
    "# 테스트 데이터셋 폴더 경로를 지정해주세요.\n",
    "test_dir = '/opt/ml/input/data/eval'"
   ]
  },
  {
   "cell_type": "markdown",
   "id": "a5ac4fb1",
   "metadata": {},
   "source": [
    "## 1. Model 정의"
   ]
  },
  {
   "cell_type": "code",
   "execution_count": 3,
   "id": "7d56bd9f",
   "metadata": {},
   "outputs": [],
   "source": [
    "class MyModel(nn.Module):\n",
    "    def __init__(self, num_classes: int = 1000):\n",
    "        super(MyModel, self).__init__()\n",
    "        self.features = nn.Sequential(\n",
    "            nn.Conv2d(3, 64, kernel_size=11, stride=4, padding=2),\n",
    "            nn.BatchNorm2d(64),\n",
    "            nn.ReLU(inplace=True),\n",
    "        )\n",
    "        self.avgpool = nn.AdaptiveAvgPool2d((1, 1))\n",
    "        self.classifier = nn.Sequential(\n",
    "            nn.Dropout(),\n",
    "            nn.Linear(64, 32),\n",
    "            nn.ReLU(inplace=True),\n",
    "            nn.Linear(32, num_classes),\n",
    "        )\n",
    "\n",
    "    def forward(self, x: torch.Tensor) -> torch.Tensor:\n",
    "        x = self.features(x)\n",
    "        x = self.avgpool(x)\n",
    "        x = torch.flatten(x, 1)\n",
    "        x = self.classifier(x)\n",
    "        return x"
   ]
  },
  {
   "cell_type": "markdown",
   "id": "2206fe04",
   "metadata": {},
   "source": [
    "## 2. Test Dataset 정의"
   ]
  },
  {
   "cell_type": "code",
   "execution_count": 4,
   "id": "7f808ec0",
   "metadata": {},
   "outputs": [],
   "source": [
    "class TestDataset(Dataset):\n",
    "    def __init__(self, img_paths, transform):\n",
    "        self.img_paths = img_paths\n",
    "        self.transform = transform\n",
    "\n",
    "    def __getitem__(self, index):\n",
    "        image = Image.open(self.img_paths[index])\n",
    "\n",
    "        if self.transform:\n",
    "            image = self.transform(image)\n",
    "        return image\n",
    "\n",
    "    def __len__(self):\n",
    "        return len(self.img_paths)"
   ]
  },
  {
   "cell_type": "markdown",
   "id": "8f492764",
   "metadata": {},
   "source": [
    "## 3. Inference"
   ]
  },
  {
   "cell_type": "code",
   "execution_count": 7,
   "id": "2916918f-f5e6-4bde-949c-db3dcf7702dc",
   "metadata": {},
   "outputs": [
    {
     "name": "stderr",
     "output_type": "stream",
     "text": [
      "100%|██████████| 12600/12600 [11:37<00:00, 18.07it/s]"
     ]
    },
    {
     "name": "stdout",
     "output_type": "stream",
     "text": [
      "test inference is done!\n"
     ]
    },
    {
     "name": "stderr",
     "output_type": "stream",
     "text": [
      "\n"
     ]
    }
   ],
   "source": [
    "# meta 데이터와 이미지 경로를 불러옵니다.\n",
    "submission = pd.read_csv(os.path.join(test_dir, 'info.csv'))\n",
    "image_dir = os.path.join(test_dir, 'images')\n",
    "\n",
    "# Test Dataset 클래스 객체를 생성하고 DataLoader를 만듭니다.\n",
    "image_paths = [os.path.join(image_dir, img_id) for img_id in submission.ImageID]\n",
    "transform = transforms.Compose([transforms.CenterCrop(224),\n",
    "                                transforms.ToTensor(),\n",
    "                                transforms.Normalize([0.485, 0.456, 0.406],[0.229, 0.224, 0.225])])\n",
    "dataset = TestDataset(image_paths, transform)\n",
    "\n",
    "loader = DataLoader(\n",
    "    dataset,\n",
    "    shuffle=False\n",
    ")\n",
    "\n",
    "# 모델을 정의합니다. (학습한 모델이 있다면 torch.load로 모델을 불러주세요!)\n",
    "device = torch.device('cuda')\n",
    "#model = MyModel(num_classes=18).to(device)\n",
    "\n",
    "#model.eval()\n",
    "\n",
    "model_path = '/opt/ml/code/'\n",
    "models = [\"0830swin_large_patch4_window7_224_batch32_lr0.0001_98.2.pt\"]\n",
    "models = [torch.load(os.path.join(model_path, model)).eval() for model in models]\n",
    "\n",
    "# 모델이 테스트 데이터셋을 예측하고 결과를 저장합니다.\n",
    "\n",
    "# 모델 하나\n",
    "if len(models) == 1:\n",
    "    model = models[0]\n",
    "    all_predictions = []\n",
    "    all_logit = np.ones((1,18))\n",
    "    for images in tqdm(loader):\n",
    "        with torch.no_grad():\n",
    "            images = images.to(device)\n",
    "            pred = model(images)\n",
    "            all_logit = np.vstack([all_logit, pred.cpu().numpy()])\n",
    "            \n",
    "            pred = pred.argmax(dim=-1)\n",
    "            all_predictions.extend(pred.cpu().numpy())\n",
    "    all_logit = np.delete(all_logit, 0, 0)\n",
    "    np.save(os.path.join(test_dir, 'logit.npy'), all_logit)\n",
    "    submission['ans'] = all_predictions\n",
    "else:\n",
    "\n",
    "    all_predictions = []\n",
    "\n",
    "\n",
    "    for images in tqdm(loader):\n",
    "        with torch.no_grad():\n",
    "            images = images.to(device)\n",
    "            npred = torch.zeros(images.size(0), 18)\n",
    "            for model in models:\n",
    "                outputs = model(images)\n",
    "\n",
    "                npred = torch.add(npred,outputs.cpu())\n",
    "\n",
    "            npred = npred / len(models)\n",
    "\n",
    "            pred = npred.argmax(dim=-1)\n",
    "\n",
    "            all_predictions.extend(pred.cpu().numpy())\n",
    "\n",
    "    submission['ans'] = all_predictions\n",
    "    \n",
    "\n",
    "# 제출할 파일을 저장합니다.\n",
    "submission.to_csv(os.path.join(test_dir, 'submission.csv'), index=False)\n",
    "print('test inference is done!')"
   ]
  },
  {
   "cell_type": "code",
   "execution_count": 8,
   "id": "2a3af776",
   "metadata": {},
   "outputs": [
    {
     "name": "stderr",
     "output_type": "stream",
     "text": [
      "100%|██████████| 12600/12600 [10:34<00:00, 19.86it/s]\n",
      "100%|██████████| 12600/12600 [10:18<00:00, 20.39it/s]\n",
      "100%|██████████| 12600/12600 [10:11<00:00, 20.61it/s]\n"
     ]
    },
    {
     "name": "stdout",
     "output_type": "stream",
     "text": [
      "test inference is done!\n"
     ]
    }
   ],
   "source": [
    "\n",
    "# meta 데이터와 이미지 경로를 불러옵니다.\n",
    "submission = pd.read_csv(os.path.join(test_dir, 'info.csv'))\n",
    "image_dir = os.path.join(test_dir, 'images')\n",
    "\n",
    "# Test Dataset 클래스 객체를 생성하고 DataLoader를 만듭니다.\n",
    "image_paths = [os.path.join(image_dir, img_id) for img_id in submission.ImageID]\n",
    "transform = transforms.Compose([transforms.CenterCrop(224),\n",
    "                                transforms.ToTensor(),\n",
    "                                transforms.Normalize([0.485, 0.456, 0.406],[0.229, 0.224, 0.225])])\n",
    "transform2 = transforms.Compose([transforms.CenterCrop(224),\n",
    "                                transforms.RandomHorizontalFlip(p=1.0),\n",
    "                                transforms.ToTensor(),\n",
    "                                transforms.Normalize([0.485, 0.456, 0.406],[0.229, 0.224, 0.225])])\n",
    "\n",
    "transform3 = transforms.Compose([transforms.CenterCrop(224),\n",
    "                                transforms.RandomAffine(30),\n",
    "                                transforms.ToTensor(),\n",
    "                                transforms.Normalize([0.485, 0.456, 0.406],[0.229, 0.224, 0.225])])\n",
    "dataset1 = TestDataset(image_paths, transform)\n",
    "dataset2 = TestDataset(image_paths, transform2)\n",
    "dataset3 = TestDataset(image_paths, transform3)\n",
    "loader1 = DataLoader(\n",
    "    dataset1,\n",
    "    shuffle=False\n",
    ")\n",
    "\n",
    "loader2 = DataLoader(\n",
    "    dataset2,\n",
    "    shuffle=False\n",
    ")\n",
    "\n",
    "loader3 = DataLoader(\n",
    "    dataset3,\n",
    "    shuffle=False\n",
    ")\n",
    "\n",
    "# 모델을 정의합니다. (학습한 모델이 있다면 torch.load로 모델을 불러주세요!)\n",
    "device = torch.device('cuda')\n",
    "\n",
    "model_path = '/opt/ml/code/'\n",
    "models = [\"0830swin_large_patch4_window7_224_batch32_lr0.0001_98.2.pt\"]\n",
    "models = [torch.load(os.path.join(model_path, model)).eval() for model in models]\n",
    "\n",
    "# 모델이 테스트 데이터셋을 예측하고 결과를 저장합니다.\n",
    "\n",
    "# 모델 하나\n",
    "if len(models) == 1:\n",
    "    model = models[0]\n",
    "    all_predictions = []\n",
    "    predictions_1 = []\n",
    "    predictions_2 = []\n",
    "    predictions_3 = []\n",
    "    for images in tqdm(loader3):\n",
    "\n",
    "        with torch.no_grad():\n",
    "            images = images.to(device)\n",
    "            pred = torch.zeros(images.size(0), 18)\n",
    "            outputs = model(images)\n",
    "            outputs = 2*outputs\n",
    "            pred = torch.add(pred, outputs.cpu())\n",
    "            predictions_1.extend(pred.cpu())\n",
    "\n",
    "    for images in tqdm(loader2):\n",
    "    \n",
    "        with torch.no_grad():\n",
    "            images = images.to(device)\n",
    "            pred = torch.zeros(images.size(0), 18)\n",
    "            outputs = model(images)\n",
    "            pred = torch.add(pred, outputs.cpu())\n",
    "            predictions_2.extend(pred.cpu())\n",
    "    for images in tqdm(loader1):\n",
    "    \n",
    "        with torch.no_grad():\n",
    "            images = images.to(device)\n",
    "            pred = torch.zeros(images.size(0), 18)\n",
    "            outputs = model(images)\n",
    "            pred = torch.add(pred, outputs.cpu())\n",
    "            predictions_3.extend(pred.cpu())\n",
    "\n",
    "\n",
    "    for k in range(len(predictions_1)):\n",
    "        npred = torch.zeros(images.size(0), 18)\n",
    "        npred = torch.add(npred, predictions_1[k])\n",
    "        npred = torch.add(npred, predictions_2[k])\n",
    "        npred = torch.add(npred, predictions_3[k])\n",
    "        npred = npred.argmax(dim=-1) \n",
    "\n",
    "        all_predictions.extend(npred.cpu().numpy())\n",
    "\n",
    "    submission['ans'] = all_predictions\n",
    "\n",
    "    \n",
    "\n",
    "# 제출할 파일을 저장합니다.\n",
    "submission.to_csv(os.path.join(test_dir, 'submission.csv'), index=False)\n",
    "print('test inference is done!')"
   ]
  },
  {
   "cell_type": "code",
   "execution_count": 21,
   "id": "fdb44c10-fc6c-47d8-9dbd-d5829e03a34d",
   "metadata": {},
   "outputs": [],
   "source": [
    "torch.cuda.empty_cache()"
   ]
  },
  {
   "cell_type": "code",
   "execution_count": null,
   "id": "7a0930c2-18d3-4a44-88ad-b719e843b45f",
   "metadata": {},
   "outputs": [],
   "source": []
  }
 ],
 "metadata": {
  "interpreter": {
   "hash": "98b0a9b7b4eaaa670588a142fd0a9b87eaafe866f1db4228be72b4211d12040f"
  },
  "kernelspec": {
   "display_name": "Python 3 (ipykernel)",
   "language": "python",
   "name": "python3"
  },
  "language_info": {
   "codemirror_mode": {
    "name": "ipython",
    "version": 3
   },
   "file_extension": ".py",
   "mimetype": "text/x-python",
   "name": "python",
   "nbconvert_exporter": "python",
   "pygments_lexer": "ipython3",
   "version": "3.8.5"
  }
 },
 "nbformat": 4,
 "nbformat_minor": 5
}
